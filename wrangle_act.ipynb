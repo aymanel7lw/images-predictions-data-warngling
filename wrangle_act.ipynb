{
 "cells": [
  {
   "cell_type": "markdown",
   "metadata": {},
   "source": [
    "# Wrangling Project for the tweet archive of @dogs_rates twitter account"
   ]
  },
  {
   "cell_type": "code",
   "execution_count": 1,
   "metadata": {},
   "outputs": [],
   "source": [
    "# Importing the required libraries\n",
    "\n",
    "import pandas as pd\n",
    "import os\n",
    "import numpy as np\n",
    "import requests as rq\n",
    "import tweepy\n",
    "import json\n",
    "import timeit"
   ]
  },
  {
   "cell_type": "markdown",
   "metadata": {},
   "source": [
    "# Wrangling Data Steps"
   ]
  },
  {
   "cell_type": "markdown",
   "metadata": {},
   "source": [
    "First,\n",
    "\n",
    "# Gathering the Data \n",
    "\n",
    "Through,\n",
    "\n",
    "1. **CSV file**:  Manual downloading \"twitter-archive-enhanced.csv\" then reading it as a Data Frame\n",
    "2. **Programmatic downloading a TSV file**:  downloading \"image-predictions.tsv\" file then reading it as a DataFrame\n",
    "3. **API** : Using Twitter API to access the tweet archive of @dos_rates, downloading the data to a txt file the   reading it as a Data Frame"
   ]
  },
  {
   "cell_type": "code",
   "execution_count": 2,
   "metadata": {},
   "outputs": [],
   "source": [
    "#Importing Data from a CSV file\n",
    "\n",
    "tweets_archive_df = pd.read_csv('twitter-archive-enhanced.csv')"
   ]
  },
  {
   "cell_type": "code",
   "execution_count": 3,
   "metadata": {},
   "outputs": [],
   "source": [
    "#Programmatic downloading the image-predicitons.tsv file\n",
    "\n",
    "url      = 'https://d17h27t6h515a5.cloudfront.net/topher/2017/August/599fd2ad_image-predictions/image-predictions.tsv'\n",
    "response = rq.get(url)\n",
    "\n",
    "with open(os.path.join(url.split('/')[-1]), mode ='wb') as file:\n",
    "    file.write(response.content)\n",
    "    \n",
    "images_predictions_df = pd.read_csv('image-predictions.tsv','\\t')"
   ]
  },
  {
   "cell_type": "code",
   "execution_count": 4,
   "metadata": {},
   "outputs": [],
   "source": [
    "#Importing Data from \"tweet_json.txt\"\n",
    "\n",
    "\n",
    "tweets_df = pd.read_json('tweet-json.txt', lines = True)"
   ]
  },
  {
   "cell_type": "markdown",
   "metadata": {},
   "source": [
    "**End of Data Gathering Stage**"
   ]
  },
  {
   "cell_type": "markdown",
   "metadata": {},
   "source": [
    "==========================================="
   ]
  },
  {
   "cell_type": "markdown",
   "metadata": {},
   "source": [
    "Then,\n",
    "\n",
    "\n",
    "# Assessing the Data\n",
    "Programmatic Data Assessment, then documenting the notes found to be cleaned\n",
    "\n",
    "\n",
    "**Assessment will be done separately for each of the gathered data**\n",
    "\n"
   ]
  },
  {
   "cell_type": "code",
   "execution_count": 5,
   "metadata": {},
   "outputs": [],
   "source": [
    "# Creating a copy of the Gathered Data\n",
    "\n",
    "tweets_archive_df_copy    = tweets_archive_df.copy()\n",
    "images_df_copy            = images_predictions_df.copy()\n",
    "tweets_df_copy            = tweets_df.copy()"
   ]
  },
  {
   "cell_type": "code",
   "execution_count": 6,
   "metadata": {},
   "outputs": [
    {
     "data": {
      "text/html": [
       "<div>\n",
       "<style scoped>\n",
       "    .dataframe tbody tr th:only-of-type {\n",
       "        vertical-align: middle;\n",
       "    }\n",
       "\n",
       "    .dataframe tbody tr th {\n",
       "        vertical-align: top;\n",
       "    }\n",
       "\n",
       "    .dataframe thead th {\n",
       "        text-align: right;\n",
       "    }\n",
       "</style>\n",
       "<table border=\"1\" class=\"dataframe\">\n",
       "  <thead>\n",
       "    <tr style=\"text-align: right;\">\n",
       "      <th></th>\n",
       "      <th>tweet_id</th>\n",
       "      <th>in_reply_to_status_id</th>\n",
       "      <th>in_reply_to_user_id</th>\n",
       "      <th>timestamp</th>\n",
       "      <th>source</th>\n",
       "      <th>text</th>\n",
       "      <th>retweeted_status_id</th>\n",
       "      <th>retweeted_status_user_id</th>\n",
       "      <th>retweeted_status_timestamp</th>\n",
       "      <th>expanded_urls</th>\n",
       "      <th>rating_numerator</th>\n",
       "      <th>rating_denominator</th>\n",
       "      <th>name</th>\n",
       "      <th>doggo</th>\n",
       "      <th>floofer</th>\n",
       "      <th>pupper</th>\n",
       "      <th>puppo</th>\n",
       "    </tr>\n",
       "  </thead>\n",
       "  <tbody>\n",
       "    <tr>\n",
       "      <th>1268</th>\n",
       "      <td>709556954897764353</td>\n",
       "      <td>NaN</td>\n",
       "      <td>NaN</td>\n",
       "      <td>2016-03-15 01:48:55 +0000</td>\n",
       "      <td>&lt;a href=\"http://twitter.com/download/iphone\" r...</td>\n",
       "      <td>This is Cecil. She's a Gigglefloof Poofer. Out...</td>\n",
       "      <td>NaN</td>\n",
       "      <td>NaN</td>\n",
       "      <td>NaN</td>\n",
       "      <td>https://twitter.com/dog_rates/status/709556954...</td>\n",
       "      <td>12</td>\n",
       "      <td>10</td>\n",
       "      <td>Cecil</td>\n",
       "      <td>None</td>\n",
       "      <td>None</td>\n",
       "      <td>None</td>\n",
       "      <td>None</td>\n",
       "    </tr>\n",
       "    <tr>\n",
       "      <th>2147</th>\n",
       "      <td>669753178989142016</td>\n",
       "      <td>NaN</td>\n",
       "      <td>NaN</td>\n",
       "      <td>2015-11-26 05:42:55 +0000</td>\n",
       "      <td>&lt;a href=\"http://twitter.com/download/iphone\" r...</td>\n",
       "      <td>Meet Chester. He just ate a lot and now he can...</td>\n",
       "      <td>NaN</td>\n",
       "      <td>NaN</td>\n",
       "      <td>NaN</td>\n",
       "      <td>https://twitter.com/dog_rates/status/669753178...</td>\n",
       "      <td>10</td>\n",
       "      <td>10</td>\n",
       "      <td>Chester</td>\n",
       "      <td>None</td>\n",
       "      <td>None</td>\n",
       "      <td>None</td>\n",
       "      <td>None</td>\n",
       "    </tr>\n",
       "    <tr>\n",
       "      <th>2219</th>\n",
       "      <td>668496999348633600</td>\n",
       "      <td>NaN</td>\n",
       "      <td>NaN</td>\n",
       "      <td>2015-11-22 18:31:19 +0000</td>\n",
       "      <td>&lt;a href=\"http://twitter.com/download/iphone\" r...</td>\n",
       "      <td>This is Jo. Jo is a Swedish Queso. Tongue bigg...</td>\n",
       "      <td>NaN</td>\n",
       "      <td>NaN</td>\n",
       "      <td>NaN</td>\n",
       "      <td>https://twitter.com/dog_rates/status/668496999...</td>\n",
       "      <td>8</td>\n",
       "      <td>10</td>\n",
       "      <td>Jo</td>\n",
       "      <td>None</td>\n",
       "      <td>None</td>\n",
       "      <td>None</td>\n",
       "      <td>None</td>\n",
       "    </tr>\n",
       "    <tr>\n",
       "      <th>495</th>\n",
       "      <td>813172488309972993</td>\n",
       "      <td>NaN</td>\n",
       "      <td>NaN</td>\n",
       "      <td>2016-12-26 00:00:03 +0000</td>\n",
       "      <td>&lt;a href=\"http://twitter.com/download/iphone\" r...</td>\n",
       "      <td>This is Eleanor. She winks like she knows many...</td>\n",
       "      <td>NaN</td>\n",
       "      <td>NaN</td>\n",
       "      <td>NaN</td>\n",
       "      <td>https://twitter.com/dog_rates/status/813172488...</td>\n",
       "      <td>12</td>\n",
       "      <td>10</td>\n",
       "      <td>Eleanor</td>\n",
       "      <td>None</td>\n",
       "      <td>None</td>\n",
       "      <td>None</td>\n",
       "      <td>None</td>\n",
       "    </tr>\n",
       "    <tr>\n",
       "      <th>161</th>\n",
       "      <td>860563773140209665</td>\n",
       "      <td>NaN</td>\n",
       "      <td>NaN</td>\n",
       "      <td>2017-05-05 18:36:06 +0000</td>\n",
       "      <td>&lt;a href=\"http://twitter.com/download/iphone\" r...</td>\n",
       "      <td>Meet Lorenzo. He's an avid nifty hat wearer an...</td>\n",
       "      <td>NaN</td>\n",
       "      <td>NaN</td>\n",
       "      <td>NaN</td>\n",
       "      <td>https://www.gofundme.com/help-lorenzo-beat-can...</td>\n",
       "      <td>13</td>\n",
       "      <td>10</td>\n",
       "      <td>Lorenzo</td>\n",
       "      <td>None</td>\n",
       "      <td>None</td>\n",
       "      <td>None</td>\n",
       "      <td>None</td>\n",
       "    </tr>\n",
       "  </tbody>\n",
       "</table>\n",
       "</div>"
      ],
      "text/plain": [
       "                tweet_id  in_reply_to_status_id  in_reply_to_user_id  \\\n",
       "1268  709556954897764353                    NaN                  NaN   \n",
       "2147  669753178989142016                    NaN                  NaN   \n",
       "2219  668496999348633600                    NaN                  NaN   \n",
       "495   813172488309972993                    NaN                  NaN   \n",
       "161   860563773140209665                    NaN                  NaN   \n",
       "\n",
       "                      timestamp  \\\n",
       "1268  2016-03-15 01:48:55 +0000   \n",
       "2147  2015-11-26 05:42:55 +0000   \n",
       "2219  2015-11-22 18:31:19 +0000   \n",
       "495   2016-12-26 00:00:03 +0000   \n",
       "161   2017-05-05 18:36:06 +0000   \n",
       "\n",
       "                                                 source  \\\n",
       "1268  <a href=\"http://twitter.com/download/iphone\" r...   \n",
       "2147  <a href=\"http://twitter.com/download/iphone\" r...   \n",
       "2219  <a href=\"http://twitter.com/download/iphone\" r...   \n",
       "495   <a href=\"http://twitter.com/download/iphone\" r...   \n",
       "161   <a href=\"http://twitter.com/download/iphone\" r...   \n",
       "\n",
       "                                                   text  retweeted_status_id  \\\n",
       "1268  This is Cecil. She's a Gigglefloof Poofer. Out...                  NaN   \n",
       "2147  Meet Chester. He just ate a lot and now he can...                  NaN   \n",
       "2219  This is Jo. Jo is a Swedish Queso. Tongue bigg...                  NaN   \n",
       "495   This is Eleanor. She winks like she knows many...                  NaN   \n",
       "161   Meet Lorenzo. He's an avid nifty hat wearer an...                  NaN   \n",
       "\n",
       "      retweeted_status_user_id retweeted_status_timestamp  \\\n",
       "1268                       NaN                        NaN   \n",
       "2147                       NaN                        NaN   \n",
       "2219                       NaN                        NaN   \n",
       "495                        NaN                        NaN   \n",
       "161                        NaN                        NaN   \n",
       "\n",
       "                                          expanded_urls  rating_numerator  \\\n",
       "1268  https://twitter.com/dog_rates/status/709556954...                12   \n",
       "2147  https://twitter.com/dog_rates/status/669753178...                10   \n",
       "2219  https://twitter.com/dog_rates/status/668496999...                 8   \n",
       "495   https://twitter.com/dog_rates/status/813172488...                12   \n",
       "161   https://www.gofundme.com/help-lorenzo-beat-can...                13   \n",
       "\n",
       "      rating_denominator     name doggo floofer pupper puppo  \n",
       "1268                  10    Cecil  None    None   None  None  \n",
       "2147                  10  Chester  None    None   None  None  \n",
       "2219                  10       Jo  None    None   None  None  \n",
       "495                   10  Eleanor  None    None   None  None  \n",
       "161                   10  Lorenzo  None    None   None  None  "
      ]
     },
     "execution_count": 6,
     "metadata": {},
     "output_type": "execute_result"
    }
   ],
   "source": [
    "# Manual Assesing of the Gatherd Data \n",
    "\n",
    "# tweets_archive_df\n",
    "\n",
    "tweets_archive_df_copy.sample(5)"
   ]
  },
  {
   "cell_type": "code",
   "execution_count": 7,
   "metadata": {},
   "outputs": [
    {
     "name": "stdout",
     "output_type": "stream",
     "text": [
      "<class 'pandas.core.frame.DataFrame'>\n",
      "RangeIndex: 2356 entries, 0 to 2355\n",
      "Data columns (total 17 columns):\n",
      " #   Column                      Non-Null Count  Dtype  \n",
      "---  ------                      --------------  -----  \n",
      " 0   tweet_id                    2356 non-null   int64  \n",
      " 1   in_reply_to_status_id       78 non-null     float64\n",
      " 2   in_reply_to_user_id         78 non-null     float64\n",
      " 3   timestamp                   2356 non-null   object \n",
      " 4   source                      2356 non-null   object \n",
      " 5   text                        2356 non-null   object \n",
      " 6   retweeted_status_id         181 non-null    float64\n",
      " 7   retweeted_status_user_id    181 non-null    float64\n",
      " 8   retweeted_status_timestamp  181 non-null    object \n",
      " 9   expanded_urls               2297 non-null   object \n",
      " 10  rating_numerator            2356 non-null   int64  \n",
      " 11  rating_denominator          2356 non-null   int64  \n",
      " 12  name                        2356 non-null   object \n",
      " 13  doggo                       2356 non-null   object \n",
      " 14  floofer                     2356 non-null   object \n",
      " 15  pupper                      2356 non-null   object \n",
      " 16  puppo                       2356 non-null   object \n",
      "dtypes: float64(4), int64(3), object(10)\n",
      "memory usage: 220.9+ KB\n"
     ]
    }
   ],
   "source": [
    "# Checking Columns' data types and Occurrence of Null values\n",
    "\n",
    "tweets_archive_df_copy.info()"
   ]
  },
  {
   "cell_type": "code",
   "execution_count": 8,
   "metadata": {},
   "outputs": [
    {
     "data": {
      "text/plain": [
       "0"
      ]
     },
     "execution_count": 8,
     "metadata": {},
     "output_type": "execute_result"
    }
   ],
   "source": [
    "# Checking for duplicates\n",
    "\n",
    "tweets_archive_df_copy.duplicated().sum()"
   ]
  },
  {
   "cell_type": "code",
   "execution_count": 9,
   "metadata": {},
   "outputs": [
    {
     "data": {
      "text/plain": [
       "tweet_id                         0\n",
       "in_reply_to_status_id         2278\n",
       "in_reply_to_user_id           2278\n",
       "timestamp                        0\n",
       "source                           0\n",
       "text                             0\n",
       "retweeted_status_id           2175\n",
       "retweeted_status_user_id      2175\n",
       "retweeted_status_timestamp    2175\n",
       "expanded_urls                   59\n",
       "rating_numerator                 0\n",
       "rating_denominator               0\n",
       "name                             0\n",
       "doggo                            0\n",
       "floofer                          0\n",
       "pupper                           0\n",
       "puppo                            0\n",
       "dtype: int64"
      ]
     },
     "execution_count": 9,
     "metadata": {},
     "output_type": "execute_result"
    }
   ],
   "source": [
    "# Checking for the Columns withe Null values and number of Null values\n",
    "\n",
    "# Most Important for me is \"tweet_id\" column\n",
    "\n",
    "tweets_archive_df_copy.isnull().sum()"
   ]
  },
  {
   "cell_type": "markdown",
   "metadata": {},
   "source": [
    "## \"Tweets Archive\" Assessment Summary\n",
    "\n",
    "\n",
    "### Quality Assessment\n",
    "\n",
    "1. **Wrong Data Type**: Timestamp Column should be converted to a datetime format rather than an object\n",
    "2. **Unnecessary Columns**: There are un wanted columns for the retweets and text data (5 cols)\n",
    "3. **Unnecessary Rows**: There are un wanted Rows for the retweets data (181 rows)\n",
    "4. **Missing Values**: There are missing values in \"name\" column \n",
    "5. **Wrong Values**: There are wrong entries in \"name\" column\n",
    "\n",
    "\n",
    "### Tidiness Assessment\n",
    "\n",
    "1. Tweets Data need to be in a separate table\n",
    "2. Dogs name and ratings need to be in a separate table\n",
    "\n"
   ]
  },
  {
   "cell_type": "code",
   "execution_count": 10,
   "metadata": {},
   "outputs": [
    {
     "data": {
      "text/html": [
       "<div>\n",
       "<style scoped>\n",
       "    .dataframe tbody tr th:only-of-type {\n",
       "        vertical-align: middle;\n",
       "    }\n",
       "\n",
       "    .dataframe tbody tr th {\n",
       "        vertical-align: top;\n",
       "    }\n",
       "\n",
       "    .dataframe thead th {\n",
       "        text-align: right;\n",
       "    }\n",
       "</style>\n",
       "<table border=\"1\" class=\"dataframe\">\n",
       "  <thead>\n",
       "    <tr style=\"text-align: right;\">\n",
       "      <th></th>\n",
       "      <th>tweet_id</th>\n",
       "      <th>jpg_url</th>\n",
       "      <th>img_num</th>\n",
       "      <th>p1</th>\n",
       "      <th>p1_conf</th>\n",
       "      <th>p1_dog</th>\n",
       "      <th>p2</th>\n",
       "      <th>p2_conf</th>\n",
       "      <th>p2_dog</th>\n",
       "      <th>p3</th>\n",
       "      <th>p3_conf</th>\n",
       "      <th>p3_dog</th>\n",
       "    </tr>\n",
       "  </thead>\n",
       "  <tbody>\n",
       "    <tr>\n",
       "      <th>437</th>\n",
       "      <td>674416750885273600</td>\n",
       "      <td>https://pbs.twimg.com/media/CVwCdCFW4AUHY4D.jpg</td>\n",
       "      <td>1</td>\n",
       "      <td>Chihuahua</td>\n",
       "      <td>0.287201</td>\n",
       "      <td>True</td>\n",
       "      <td>Boston_bull</td>\n",
       "      <td>0.250920</td>\n",
       "      <td>True</td>\n",
       "      <td>whippet</td>\n",
       "      <td>0.141012</td>\n",
       "      <td>True</td>\n",
       "    </tr>\n",
       "    <tr>\n",
       "      <th>353</th>\n",
       "      <td>672591271085670400</td>\n",
       "      <td>https://pbs.twimg.com/media/CVWGMQMWUAA7aOM.jpg</td>\n",
       "      <td>1</td>\n",
       "      <td>gondola</td>\n",
       "      <td>0.134290</td>\n",
       "      <td>False</td>\n",
       "      <td>lifeboat</td>\n",
       "      <td>0.108356</td>\n",
       "      <td>False</td>\n",
       "      <td>bassinet</td>\n",
       "      <td>0.093679</td>\n",
       "      <td>False</td>\n",
       "    </tr>\n",
       "    <tr>\n",
       "      <th>281</th>\n",
       "      <td>671122204919246848</td>\n",
       "      <td>https://pbs.twimg.com/media/CVBOFTLWwAAzlNi.jpg</td>\n",
       "      <td>1</td>\n",
       "      <td>goose</td>\n",
       "      <td>0.351957</td>\n",
       "      <td>False</td>\n",
       "      <td>Chihuahua</td>\n",
       "      <td>0.101228</td>\n",
       "      <td>True</td>\n",
       "      <td>hen</td>\n",
       "      <td>0.065818</td>\n",
       "      <td>False</td>\n",
       "    </tr>\n",
       "    <tr>\n",
       "      <th>1213</th>\n",
       "      <td>743222593470234624</td>\n",
       "      <td>https://pbs.twimg.com/media/ClB09z0WYAAA1jz.jpg</td>\n",
       "      <td>1</td>\n",
       "      <td>kuvasz</td>\n",
       "      <td>0.350629</td>\n",
       "      <td>True</td>\n",
       "      <td>soft-coated_wheaten_terrier</td>\n",
       "      <td>0.182782</td>\n",
       "      <td>True</td>\n",
       "      <td>golden_retriever</td>\n",
       "      <td>0.087662</td>\n",
       "      <td>True</td>\n",
       "    </tr>\n",
       "    <tr>\n",
       "      <th>2004</th>\n",
       "      <td>877316821321428993</td>\n",
       "      <td>https://pbs.twimg.com/media/DCza_vtXkAQXGpC.jpg</td>\n",
       "      <td>1</td>\n",
       "      <td>Saluki</td>\n",
       "      <td>0.509967</td>\n",
       "      <td>True</td>\n",
       "      <td>Italian_greyhound</td>\n",
       "      <td>0.090497</td>\n",
       "      <td>True</td>\n",
       "      <td>golden_retriever</td>\n",
       "      <td>0.079406</td>\n",
       "      <td>True</td>\n",
       "    </tr>\n",
       "  </tbody>\n",
       "</table>\n",
       "</div>"
      ],
      "text/plain": [
       "                tweet_id                                          jpg_url  \\\n",
       "437   674416750885273600  https://pbs.twimg.com/media/CVwCdCFW4AUHY4D.jpg   \n",
       "353   672591271085670400  https://pbs.twimg.com/media/CVWGMQMWUAA7aOM.jpg   \n",
       "281   671122204919246848  https://pbs.twimg.com/media/CVBOFTLWwAAzlNi.jpg   \n",
       "1213  743222593470234624  https://pbs.twimg.com/media/ClB09z0WYAAA1jz.jpg   \n",
       "2004  877316821321428993  https://pbs.twimg.com/media/DCza_vtXkAQXGpC.jpg   \n",
       "\n",
       "      img_num         p1   p1_conf  p1_dog                           p2  \\\n",
       "437         1  Chihuahua  0.287201    True                  Boston_bull   \n",
       "353         1    gondola  0.134290   False                     lifeboat   \n",
       "281         1      goose  0.351957   False                    Chihuahua   \n",
       "1213        1     kuvasz  0.350629    True  soft-coated_wheaten_terrier   \n",
       "2004        1     Saluki  0.509967    True            Italian_greyhound   \n",
       "\n",
       "       p2_conf  p2_dog                p3   p3_conf  p3_dog  \n",
       "437   0.250920    True           whippet  0.141012    True  \n",
       "353   0.108356   False          bassinet  0.093679   False  \n",
       "281   0.101228    True               hen  0.065818   False  \n",
       "1213  0.182782    True  golden_retriever  0.087662    True  \n",
       "2004  0.090497    True  golden_retriever  0.079406    True  "
      ]
     },
     "execution_count": 10,
     "metadata": {},
     "output_type": "execute_result"
    }
   ],
   "source": [
    "# Manual Assessment of Images-predictions\n",
    "\n",
    "images_df_copy.sample(5)"
   ]
  },
  {
   "cell_type": "code",
   "execution_count": 11,
   "metadata": {},
   "outputs": [
    {
     "name": "stdout",
     "output_type": "stream",
     "text": [
      "<class 'pandas.core.frame.DataFrame'>\n",
      "RangeIndex: 2075 entries, 0 to 2074\n",
      "Data columns (total 12 columns):\n",
      " #   Column    Non-Null Count  Dtype  \n",
      "---  ------    --------------  -----  \n",
      " 0   tweet_id  2075 non-null   int64  \n",
      " 1   jpg_url   2075 non-null   object \n",
      " 2   img_num   2075 non-null   int64  \n",
      " 3   p1        2075 non-null   object \n",
      " 4   p1_conf   2075 non-null   float64\n",
      " 5   p1_dog    2075 non-null   bool   \n",
      " 6   p2        2075 non-null   object \n",
      " 7   p2_conf   2075 non-null   float64\n",
      " 8   p2_dog    2075 non-null   bool   \n",
      " 9   p3        2075 non-null   object \n",
      " 10  p3_conf   2075 non-null   float64\n",
      " 11  p3_dog    2075 non-null   bool   \n",
      "dtypes: bool(3), float64(3), int64(2), object(4)\n",
      "memory usage: 119.6+ KB\n"
     ]
    }
   ],
   "source": [
    "# Checking Columns' data types and Occurrence of Null values\n",
    "\n",
    "images_df_copy.info()"
   ]
  },
  {
   "cell_type": "code",
   "execution_count": 12,
   "metadata": {},
   "outputs": [
    {
     "data": {
      "text/plain": [
       "0"
      ]
     },
     "execution_count": 12,
     "metadata": {},
     "output_type": "execute_result"
    }
   ],
   "source": [
    "# Checking for duplicates\n",
    "\n",
    "images_df_copy.duplicated().sum()"
   ]
  },
  {
   "cell_type": "code",
   "execution_count": 13,
   "metadata": {},
   "outputs": [
    {
     "data": {
      "text/plain": [
       "66"
      ]
     },
     "execution_count": 13,
     "metadata": {},
     "output_type": "execute_result"
    }
   ],
   "source": [
    "# Checking for duplicates in the Images Urls\n",
    "\n",
    "images_df_copy['jpg_url'].duplicated().sum()"
   ]
  },
  {
   "cell_type": "code",
   "execution_count": 14,
   "metadata": {},
   "outputs": [
    {
     "data": {
      "text/plain": [
       "tweet_id    0\n",
       "jpg_url     0\n",
       "img_num     0\n",
       "p1          0\n",
       "p1_conf     0\n",
       "p1_dog      0\n",
       "p2          0\n",
       "p2_conf     0\n",
       "p2_dog      0\n",
       "p3          0\n",
       "p3_conf     0\n",
       "p3_dog      0\n",
       "dtype: int64"
      ]
     },
     "execution_count": 14,
     "metadata": {},
     "output_type": "execute_result"
    }
   ],
   "source": [
    "# Checking for the Columns withe Null values and number of Null values\n",
    "\n",
    "images_df_copy.isnull().sum()"
   ]
  },
  {
   "cell_type": "markdown",
   "metadata": {},
   "source": [
    "## \"Images Predictions\" Assessment Summary\n",
    "\n",
    "\n",
    "### Quality Assessment\n",
    "\n",
    "1.  **There are Upper and Lower Case Letters**: The Letters Case in each of the columns \"P1, P2, P3\" should be the same for the whole column.  \n",
    "2. **Duplicates**: There are tweets with images of similar URLs  \n",
    "\n",
    "\n",
    "### Tidiness Assessment\n",
    "\n",
    "No Issues\n",
    "\n"
   ]
  },
  {
   "cell_type": "code",
   "execution_count": 15,
   "metadata": {},
   "outputs": [
    {
     "data": {
      "text/html": [
       "<div>\n",
       "<style scoped>\n",
       "    .dataframe tbody tr th:only-of-type {\n",
       "        vertical-align: middle;\n",
       "    }\n",
       "\n",
       "    .dataframe tbody tr th {\n",
       "        vertical-align: top;\n",
       "    }\n",
       "\n",
       "    .dataframe thead th {\n",
       "        text-align: right;\n",
       "    }\n",
       "</style>\n",
       "<table border=\"1\" class=\"dataframe\">\n",
       "  <thead>\n",
       "    <tr style=\"text-align: right;\">\n",
       "      <th></th>\n",
       "      <th>tweet_id</th>\n",
       "      <th>retweet_count</th>\n",
       "      <th>favorite_count</th>\n",
       "    </tr>\n",
       "  </thead>\n",
       "  <tbody>\n",
       "    <tr>\n",
       "      <th>1280</th>\n",
       "      <td>707411934438625280</td>\n",
       "      <td>587</td>\n",
       "      <td>2262</td>\n",
       "    </tr>\n",
       "    <tr>\n",
       "      <th>997</th>\n",
       "      <td>746726898085036033</td>\n",
       "      <td>1767</td>\n",
       "      <td>5966</td>\n",
       "    </tr>\n",
       "    <tr>\n",
       "      <th>1420</th>\n",
       "      <td>696713835009417216</td>\n",
       "      <td>637</td>\n",
       "      <td>2342</td>\n",
       "    </tr>\n",
       "    <tr>\n",
       "      <th>1387</th>\n",
       "      <td>698989035503689728</td>\n",
       "      <td>955</td>\n",
       "      <td>3289</td>\n",
       "    </tr>\n",
       "    <tr>\n",
       "      <th>147</th>\n",
       "      <td>862457590147678208</td>\n",
       "      <td>4575</td>\n",
       "      <td>19338</td>\n",
       "    </tr>\n",
       "  </tbody>\n",
       "</table>\n",
       "</div>"
      ],
      "text/plain": [
       "                tweet_id  retweet_count  favorite_count\n",
       "1280  707411934438625280            587            2262\n",
       "997   746726898085036033           1767            5966\n",
       "1420  696713835009417216            637            2342\n",
       "1387  698989035503689728            955            3289\n",
       "147   862457590147678208           4575           19338"
      ]
     },
     "execution_count": 15,
     "metadata": {},
     "output_type": "execute_result"
    }
   ],
   "source": [
    "# Manual Assessment of Images-predictions\n",
    "\n",
    "tweets_df_copy.sample(5)"
   ]
  },
  {
   "cell_type": "code",
   "execution_count": 16,
   "metadata": {},
   "outputs": [
    {
     "name": "stdout",
     "output_type": "stream",
     "text": [
      "<class 'pandas.core.frame.DataFrame'>\n",
      "RangeIndex: 1924 entries, 0 to 1923\n",
      "Data columns (total 3 columns):\n",
      " #   Column          Non-Null Count  Dtype\n",
      "---  ------          --------------  -----\n",
      " 0   tweet_id        1924 non-null   int64\n",
      " 1   retweet_count   1924 non-null   int64\n",
      " 2   favorite_count  1924 non-null   int64\n",
      "dtypes: int64(3)\n",
      "memory usage: 45.2 KB\n"
     ]
    }
   ],
   "source": [
    "# Checking Columns' data types and Occurrence of Null values\n",
    "\n",
    "tweets_df_copy.info()"
   ]
  },
  {
   "cell_type": "code",
   "execution_count": 17,
   "metadata": {},
   "outputs": [
    {
     "data": {
      "text/plain": [
       "0"
      ]
     },
     "execution_count": 17,
     "metadata": {},
     "output_type": "execute_result"
    }
   ],
   "source": [
    "# Checking for duplicates\n",
    "\n",
    "sum(tweets_df_copy.duplicated())"
   ]
  },
  {
   "cell_type": "code",
   "execution_count": 18,
   "metadata": {},
   "outputs": [
    {
     "data": {
      "text/plain": [
       "tweet_id          0\n",
       "retweet_count     0\n",
       "favorite_count    0\n",
       "dtype: int64"
      ]
     },
     "execution_count": 18,
     "metadata": {},
     "output_type": "execute_result"
    }
   ],
   "source": [
    "# Checking for the Columns withe Null values and number of Null values\n",
    "\n",
    "tweets_df_copy.isnull().sum()"
   ]
  },
  {
   "cell_type": "markdown",
   "metadata": {},
   "source": [
    "## \"Tweets\" Assessment Summary\n",
    "\n",
    "\n",
    "### Quality Assessment\n",
    "\n",
    " No Issues\n",
    " \n",
    "### Tidiness Assessment\n",
    "\n",
    "1. Tweets table need to be merged with other col.s related to the tweets in a new table\n",
    "2. The number of the rows is less than the number of the rows in the other tables to be merged with\n",
    "\n"
   ]
  },
  {
   "cell_type": "markdown",
   "metadata": {},
   "source": [
    "**End of Data Assessment Stage**"
   ]
  },
  {
   "cell_type": "markdown",
   "metadata": {},
   "source": [
    "                                        ======================================"
   ]
  },
  {
   "cell_type": "markdown",
   "metadata": {},
   "source": [
    "                                ======================================================"
   ]
  },
  {
   "cell_type": "markdown",
   "metadata": {},
   "source": [
    "Finally,\n",
    "\n",
    "# Cleaning the Data\n",
    "\n",
    "That is, solving the notes taken at the Assessment Stage, "
   ]
  },
  {
   "cell_type": "markdown",
   "metadata": {},
   "source": [
    "### Summary of Notes Taken at the Assessment Stage -- Cleaning Points\n",
    "\n",
    "\n",
    "### Quality Issues\n",
    "\n",
    "\n",
    "**Tweets Archive**\n",
    "        \n",
    "* Wrong Data Type - Cleaning : Convert Timestamp Column data type to be a datetime format rather than an object\n",
    "* Unnecessarg Rows - Cleaning : Drop the unwanted Rows for the retweets data (181 rows)\n",
    "* Unnecessary Col.s - Cleaning: Drop the un wanted columns for the retweets and text data (5 cols)\n",
    "* Missing Values - Cleaning: Replaced missing values in \"name\" column\n",
    "* Wrong Values - Cleaning: Drop the wrong entries in \"name\" column\n",
    "\n",
    "**Images Predictions**\n",
    "\n",
    "* There are Upper and Lower Case Letters - Cleaning: Convert all the Letters Case in each of the columns \"P1, P2, P3\" to be in the lowercase.  \n",
    "* Duplicates - Cleaning: Drop the tweets with images of similar URLs  \n",
    "\n",
    "**Tweets** \n",
    "\n",
    " No Issues\n",
    " \n",
    " \n",
    " ### Tidness Issues\n",
    "\n",
    "\n",
    "\n",
    "**Tweets Archive**\n",
    "\n",
    "* Merge dogs' stages in a single column named \"Stages\"\n",
    "* Merge tweets-related-data in a separate table\n",
    "* Merge dogs name and ratings in a separate table\n",
    "\n",
    "**Images Predictions**\n",
    "\n",
    "* No Issues\n",
    " \n",
    "**Tweets** \n",
    " \n",
    "* Merge tweets table with other columns related to the tweets in a new table"
   ]
  },
  {
   "cell_type": "code",
   "execution_count": 19,
   "metadata": {
    "scrolled": true
   },
   "outputs": [
    {
     "name": "stdout",
     "output_type": "stream",
     "text": [
      "<class 'pandas.core.frame.DataFrame'>\n",
      "RangeIndex: 2356 entries, 0 to 2355\n",
      "Data columns (total 17 columns):\n",
      " #   Column                      Non-Null Count  Dtype              \n",
      "---  ------                      --------------  -----              \n",
      " 0   tweet_id                    2356 non-null   int64              \n",
      " 1   in_reply_to_status_id       78 non-null     float64            \n",
      " 2   in_reply_to_user_id         78 non-null     float64            \n",
      " 3   timestamp                   2356 non-null   datetime64[ns, UTC]\n",
      " 4   source                      2356 non-null   object             \n",
      " 5   text                        2356 non-null   object             \n",
      " 6   retweeted_status_id         181 non-null    float64            \n",
      " 7   retweeted_status_user_id    181 non-null    float64            \n",
      " 8   retweeted_status_timestamp  181 non-null    object             \n",
      " 9   expanded_urls               2297 non-null   object             \n",
      " 10  rating_numerator            2356 non-null   int64              \n",
      " 11  rating_denominator          2356 non-null   int64              \n",
      " 12  name                        2356 non-null   object             \n",
      " 13  doggo                       2356 non-null   object             \n",
      " 14  floofer                     2356 non-null   object             \n",
      " 15  pupper                      2356 non-null   object             \n",
      " 16  puppo                       2356 non-null   object             \n",
      "dtypes: datetime64[ns, UTC](1), float64(4), int64(3), object(9)\n",
      "memory usage: 230.1+ KB\n"
     ]
    }
   ],
   "source": [
    "# - Quality Issue - \n",
    "# Solving the \"Timestamp\" col in Tweets Archive Table's wrong data type Issue\n",
    "\n",
    "tweets_archive_df_copy['timestamp'] = pd.to_datetime(tweets_archive_df_copy['timestamp'])\n",
    "tweets_archive_df_copy.info()"
   ]
  },
  {
   "cell_type": "code",
   "execution_count": 20,
   "metadata": {},
   "outputs": [
    {
     "name": "stdout",
     "output_type": "stream",
     "text": [
      "<class 'pandas.core.frame.DataFrame'>\n",
      "Int64Index: 2175 entries, 0 to 2355\n",
      "Data columns (total 17 columns):\n",
      " #   Column                      Non-Null Count  Dtype              \n",
      "---  ------                      --------------  -----              \n",
      " 0   tweet_id                    2175 non-null   int64              \n",
      " 1   in_reply_to_status_id       78 non-null     float64            \n",
      " 2   in_reply_to_user_id         78 non-null     float64            \n",
      " 3   timestamp                   2175 non-null   datetime64[ns, UTC]\n",
      " 4   source                      2175 non-null   object             \n",
      " 5   text                        2175 non-null   object             \n",
      " 6   retweeted_status_id         0 non-null      float64            \n",
      " 7   retweeted_status_user_id    0 non-null      float64            \n",
      " 8   retweeted_status_timestamp  0 non-null      object             \n",
      " 9   expanded_urls               2117 non-null   object             \n",
      " 10  rating_numerator            2175 non-null   int64              \n",
      " 11  rating_denominator          2175 non-null   int64              \n",
      " 12  name                        2175 non-null   object             \n",
      " 13  doggo                       2175 non-null   object             \n",
      " 14  floofer                     2175 non-null   object             \n",
      " 15  pupper                      2175 non-null   object             \n",
      " 16  puppo                       2175 non-null   object             \n",
      "dtypes: datetime64[ns, UTC](1), float64(4), int64(3), object(9)\n",
      "memory usage: 229.4+ KB\n"
     ]
    }
   ],
   "source": [
    "# - Quality Issue - \n",
    "#Solving the Issue of the Unnecessary rows (retweeted_status_id,retweeted_status_user_id,retweeted_status_timestamp)\n",
    "\n",
    "retweets               = tweets_archive_df_copy.retweeted_status_id.isnull()\n",
    "tweets_archive_df_copy = tweets_archive_df_copy[retweets]\n",
    "\n",
    "tweets_archive_df_copy.info()"
   ]
  },
  {
   "cell_type": "code",
   "execution_count": 21,
   "metadata": {},
   "outputs": [],
   "source": [
    "# - Quality Issue - \n",
    "#Solving the Issue of the Unnecessary Col.s (in_reply_to_status_id,in_reply_to_user_id,retweeted_status_id,retweeted_status_user_id,retweeted_status_timestamp,text,expanded_urls,source)\n",
    "\n",
    "\n",
    "tweets_archive_df_copy.drop(['in_reply_to_status_id','in_reply_to_user_id','source','text','retweeted_status_id','retweeted_status_user_id','retweeted_status_timestamp','expanded_urls'], axis = 1 , inplace = True)"
   ]
  },
  {
   "cell_type": "code",
   "execution_count": 22,
   "metadata": {},
   "outputs": [
    {
     "name": "stdout",
     "output_type": "stream",
     "text": [
      "<class 'pandas.core.frame.DataFrame'>\n",
      "Int64Index: 2175 entries, 0 to 2355\n",
      "Data columns (total 9 columns):\n",
      " #   Column              Non-Null Count  Dtype              \n",
      "---  ------              --------------  -----              \n",
      " 0   tweet_id            2175 non-null   int64              \n",
      " 1   timestamp           2175 non-null   datetime64[ns, UTC]\n",
      " 2   rating_numerator    2175 non-null   int64              \n",
      " 3   rating_denominator  2175 non-null   int64              \n",
      " 4   name                2175 non-null   object             \n",
      " 5   doggo               2175 non-null   object             \n",
      " 6   floofer             2175 non-null   object             \n",
      " 7   pupper              2175 non-null   object             \n",
      " 8   puppo               2175 non-null   object             \n",
      "dtypes: datetime64[ns, UTC](1), int64(3), object(5)\n",
      "memory usage: 127.4+ KB\n"
     ]
    }
   ],
   "source": [
    "tweets_archive_df_copy.info()"
   ]
  },
  {
   "cell_type": "code",
   "execution_count": 23,
   "metadata": {},
   "outputs": [],
   "source": [
    "#- Quality Issue - \n",
    "#Solving the issue of \"name\" col's missing and wrong entries  \n",
    "\n",
    "tweets_archive_df_copy.name = tweets_archive_df_copy.name.str.replace('^[a-z]+', 'None')\n"
   ]
  },
  {
   "cell_type": "code",
   "execution_count": 24,
   "metadata": {},
   "outputs": [],
   "source": [
    "#- Tidiness Issue - \n",
    "#Solving the issue of the separated stages columns\n",
    "\n",
    "tweets_archive_df_copy['stage'] = tweets_archive_df_copy['doggo'].replace('None',' ') + tweets_archive_df_copy['floofer'].replace('None',' ') + tweets_archive_df_copy['pupper'].replace('None',' ') + tweets_archive_df_copy['puppo'].replace('None',' ')"
   ]
  },
  {
   "cell_type": "code",
   "execution_count": 51,
   "metadata": {},
   "outputs": [
    {
     "data": {
      "text/plain": [
       "           1831\n",
       "pupper      234\n",
       "doggo        75\n",
       "puppo        25\n",
       "floofer      10\n",
       "Name: stage, dtype: int64"
      ]
     },
     "execution_count": 51,
     "metadata": {},
     "output_type": "execute_result"
    }
   ],
   "source": [
    "tweets_archive_df_copy['stage'] = tweets_archive_df_copy['stage'].str.strip()\n",
    "tweets_archive_df_copy['stage'].value_counts()"
   ]
  },
  {
   "cell_type": "code",
   "execution_count": 56,
   "metadata": {},
   "outputs": [
    {
     "data": {
      "text/plain": [
       "None       1831\n",
       "pupper      234\n",
       "doggo        75\n",
       "puppo        25\n",
       "floofer      10\n",
       "Name: stage, dtype: int64"
      ]
     },
     "execution_count": 56,
     "metadata": {},
     "output_type": "execute_result"
    }
   ],
   "source": [
    "tweets_archive_df_copy['stage'] = tweets_archive_df_copy['stage'].replace('doggofloofer', 'floofer')\n",
    "tweets_archive_df_copy['stage'] = tweets_archive_df_copy['stage'].replace('doggo  puppo', 'puppo')\n",
    "tweets_archive_df_copy['stage'] = tweets_archive_df_copy['stage'].replace('', 'None')\n",
    "\n",
    "\n",
    "tweets_archive_df_copy['stage'].value_counts()"
   ]
  },
  {
   "cell_type": "code",
   "execution_count": null,
   "metadata": {},
   "outputs": [],
   "source": [
    "#- Tidiness Issue -\n",
    "#Dropping the unnecessary cols. (doggo, floofer, pupper, puppo)\n",
    "\n",
    "tweets_archive_df_copy.drop(['doggo', 'floofer', 'pupper', 'puppo'], axis = 1, inplace = True)\n",
    "\n",
    "tweets_archive_df_copy.head()"
   ]
  },
  {
   "cell_type": "code",
   "execution_count": 45,
   "metadata": {},
   "outputs": [
    {
     "data": {
      "text/plain": [
       "           1831\n",
       "pupper      234\n",
       "doggo        75\n",
       "puppo        25\n",
       "floofer      10\n",
       "Name: stage, dtype: int64"
      ]
     },
     "execution_count": 45,
     "metadata": {},
     "output_type": "execute_result"
    }
   ],
   "source": [
    "tweets_archive_df_copy['stage'].replace('    ', 'None', inplace = True)\n",
    "tweets_archive_df_copy['stage'].value_counts()"
   ]
  },
  {
   "cell_type": "code",
   "execution_count": 29,
   "metadata": {},
   "outputs": [
    {
     "data": {
      "text/html": [
       "<div>\n",
       "<style scoped>\n",
       "    .dataframe tbody tr th:only-of-type {\n",
       "        vertical-align: middle;\n",
       "    }\n",
       "\n",
       "    .dataframe tbody tr th {\n",
       "        vertical-align: top;\n",
       "    }\n",
       "\n",
       "    .dataframe thead th {\n",
       "        text-align: right;\n",
       "    }\n",
       "</style>\n",
       "<table border=\"1\" class=\"dataframe\">\n",
       "  <thead>\n",
       "    <tr style=\"text-align: right;\">\n",
       "      <th></th>\n",
       "      <th>tweet_id</th>\n",
       "      <th>jpg_url</th>\n",
       "      <th>img_num</th>\n",
       "      <th>p1</th>\n",
       "      <th>p1_conf</th>\n",
       "      <th>p1_dog</th>\n",
       "      <th>p2</th>\n",
       "      <th>p2_conf</th>\n",
       "      <th>p2_dog</th>\n",
       "      <th>p3</th>\n",
       "      <th>p3_conf</th>\n",
       "      <th>p3_dog</th>\n",
       "    </tr>\n",
       "  </thead>\n",
       "  <tbody>\n",
       "    <tr>\n",
       "      <th>0</th>\n",
       "      <td>666020888022790149</td>\n",
       "      <td>https://pbs.twimg.com/media/CT4udn0WwAA0aMy.jpg</td>\n",
       "      <td>1</td>\n",
       "      <td>welsh_springer_spaniel</td>\n",
       "      <td>0.465074</td>\n",
       "      <td>True</td>\n",
       "      <td>collie</td>\n",
       "      <td>0.156665</td>\n",
       "      <td>True</td>\n",
       "      <td>shetland_sheepdog</td>\n",
       "      <td>0.061428</td>\n",
       "      <td>True</td>\n",
       "    </tr>\n",
       "    <tr>\n",
       "      <th>1</th>\n",
       "      <td>666029285002620928</td>\n",
       "      <td>https://pbs.twimg.com/media/CT42GRgUYAA5iDo.jpg</td>\n",
       "      <td>1</td>\n",
       "      <td>redbone</td>\n",
       "      <td>0.506826</td>\n",
       "      <td>True</td>\n",
       "      <td>miniature_pinscher</td>\n",
       "      <td>0.074192</td>\n",
       "      <td>True</td>\n",
       "      <td>rhodesian_ridgeback</td>\n",
       "      <td>0.072010</td>\n",
       "      <td>True</td>\n",
       "    </tr>\n",
       "    <tr>\n",
       "      <th>2</th>\n",
       "      <td>666033412701032449</td>\n",
       "      <td>https://pbs.twimg.com/media/CT4521TWwAEvMyu.jpg</td>\n",
       "      <td>1</td>\n",
       "      <td>german_shepherd</td>\n",
       "      <td>0.596461</td>\n",
       "      <td>True</td>\n",
       "      <td>malinois</td>\n",
       "      <td>0.138584</td>\n",
       "      <td>True</td>\n",
       "      <td>bloodhound</td>\n",
       "      <td>0.116197</td>\n",
       "      <td>True</td>\n",
       "    </tr>\n",
       "    <tr>\n",
       "      <th>3</th>\n",
       "      <td>666044226329800704</td>\n",
       "      <td>https://pbs.twimg.com/media/CT5Dr8HUEAA-lEu.jpg</td>\n",
       "      <td>1</td>\n",
       "      <td>rhodesian_ridgeback</td>\n",
       "      <td>0.408143</td>\n",
       "      <td>True</td>\n",
       "      <td>redbone</td>\n",
       "      <td>0.360687</td>\n",
       "      <td>True</td>\n",
       "      <td>miniature_pinscher</td>\n",
       "      <td>0.222752</td>\n",
       "      <td>True</td>\n",
       "    </tr>\n",
       "    <tr>\n",
       "      <th>4</th>\n",
       "      <td>666049248165822465</td>\n",
       "      <td>https://pbs.twimg.com/media/CT5IQmsXIAAKY4A.jpg</td>\n",
       "      <td>1</td>\n",
       "      <td>miniature_pinscher</td>\n",
       "      <td>0.560311</td>\n",
       "      <td>True</td>\n",
       "      <td>rottweiler</td>\n",
       "      <td>0.243682</td>\n",
       "      <td>True</td>\n",
       "      <td>doberman</td>\n",
       "      <td>0.154629</td>\n",
       "      <td>True</td>\n",
       "    </tr>\n",
       "  </tbody>\n",
       "</table>\n",
       "</div>"
      ],
      "text/plain": [
       "             tweet_id                                          jpg_url  \\\n",
       "0  666020888022790149  https://pbs.twimg.com/media/CT4udn0WwAA0aMy.jpg   \n",
       "1  666029285002620928  https://pbs.twimg.com/media/CT42GRgUYAA5iDo.jpg   \n",
       "2  666033412701032449  https://pbs.twimg.com/media/CT4521TWwAEvMyu.jpg   \n",
       "3  666044226329800704  https://pbs.twimg.com/media/CT5Dr8HUEAA-lEu.jpg   \n",
       "4  666049248165822465  https://pbs.twimg.com/media/CT5IQmsXIAAKY4A.jpg   \n",
       "\n",
       "   img_num                      p1   p1_conf  p1_dog                  p2  \\\n",
       "0        1  welsh_springer_spaniel  0.465074    True              collie   \n",
       "1        1                 redbone  0.506826    True  miniature_pinscher   \n",
       "2        1         german_shepherd  0.596461    True            malinois   \n",
       "3        1     rhodesian_ridgeback  0.408143    True             redbone   \n",
       "4        1      miniature_pinscher  0.560311    True          rottweiler   \n",
       "\n",
       "    p2_conf  p2_dog                   p3   p3_conf  p3_dog  \n",
       "0  0.156665    True    shetland_sheepdog  0.061428    True  \n",
       "1  0.074192    True  rhodesian_ridgeback  0.072010    True  \n",
       "2  0.138584    True           bloodhound  0.116197    True  \n",
       "3  0.360687    True   miniature_pinscher  0.222752    True  \n",
       "4  0.243682    True             doberman  0.154629    True  "
      ]
     },
     "execution_count": 29,
     "metadata": {},
     "output_type": "execute_result"
    }
   ],
   "source": [
    "#- Quality Issue -\n",
    "#convert all of the col. entries to lowercase letters\n",
    "\n",
    "images_df_copy['p1'], images_df_copy['p2'], images_df_copy['p3'] = images_df_copy['p1'].str.lower(), images_df_copy['p2'].str.lower(), images_df_copy['p3'].str.lower()\n",
    "\n",
    "images_df_copy.head()"
   ]
  },
  {
   "cell_type": "code",
   "execution_count": 30,
   "metadata": {},
   "outputs": [
    {
     "data": {
      "text/plain": [
       "0"
      ]
     },
     "execution_count": 30,
     "metadata": {},
     "output_type": "execute_result"
    }
   ],
   "source": [
    "#- Quality Issue -\n",
    "#Dropping tweets of similar imgaes\n",
    "\n",
    "images_df_copy = images_df_copy.drop_duplicates(subset = 'jpg_url', keep = 'first')\n",
    "\n",
    "images_df_copy.duplicated().sum()"
   ]
  },
  {
   "cell_type": "code",
   "execution_count": 57,
   "metadata": {},
   "outputs": [
    {
     "data": {
      "text/html": [
       "<div>\n",
       "<style scoped>\n",
       "    .dataframe tbody tr th:only-of-type {\n",
       "        vertical-align: middle;\n",
       "    }\n",
       "\n",
       "    .dataframe tbody tr th {\n",
       "        vertical-align: top;\n",
       "    }\n",
       "\n",
       "    .dataframe thead th {\n",
       "        text-align: right;\n",
       "    }\n",
       "</style>\n",
       "<table border=\"1\" class=\"dataframe\">\n",
       "  <thead>\n",
       "    <tr style=\"text-align: right;\">\n",
       "      <th></th>\n",
       "      <th>tweet_id</th>\n",
       "      <th>timestamp</th>\n",
       "      <th>rating_numerator</th>\n",
       "      <th>rating_denominator</th>\n",
       "      <th>name</th>\n",
       "      <th>stage</th>\n",
       "      <th>retweet_count</th>\n",
       "      <th>favorite_count</th>\n",
       "    </tr>\n",
       "  </thead>\n",
       "  <tbody>\n",
       "    <tr>\n",
       "      <th>0</th>\n",
       "      <td>892420643555336193</td>\n",
       "      <td>2017-08-01 16:23:56+00:00</td>\n",
       "      <td>13</td>\n",
       "      <td>10</td>\n",
       "      <td>Phineas</td>\n",
       "      <td>None</td>\n",
       "      <td>7565</td>\n",
       "      <td>35769</td>\n",
       "    </tr>\n",
       "    <tr>\n",
       "      <th>1</th>\n",
       "      <td>892177421306343426</td>\n",
       "      <td>2017-08-01 00:17:27+00:00</td>\n",
       "      <td>13</td>\n",
       "      <td>10</td>\n",
       "      <td>Tilly</td>\n",
       "      <td>None</td>\n",
       "      <td>5605</td>\n",
       "      <td>30898</td>\n",
       "    </tr>\n",
       "    <tr>\n",
       "      <th>2</th>\n",
       "      <td>891815181378084864</td>\n",
       "      <td>2017-07-31 00:18:03+00:00</td>\n",
       "      <td>12</td>\n",
       "      <td>10</td>\n",
       "      <td>Archie</td>\n",
       "      <td>None</td>\n",
       "      <td>3715</td>\n",
       "      <td>23238</td>\n",
       "    </tr>\n",
       "    <tr>\n",
       "      <th>3</th>\n",
       "      <td>891689557279858688</td>\n",
       "      <td>2017-07-30 15:58:51+00:00</td>\n",
       "      <td>13</td>\n",
       "      <td>10</td>\n",
       "      <td>Darla</td>\n",
       "      <td>None</td>\n",
       "      <td>7751</td>\n",
       "      <td>39065</td>\n",
       "    </tr>\n",
       "    <tr>\n",
       "      <th>4</th>\n",
       "      <td>891327558926688256</td>\n",
       "      <td>2017-07-29 16:00:24+00:00</td>\n",
       "      <td>12</td>\n",
       "      <td>10</td>\n",
       "      <td>Franklin</td>\n",
       "      <td>None</td>\n",
       "      <td>8346</td>\n",
       "      <td>37308</td>\n",
       "    </tr>\n",
       "  </tbody>\n",
       "</table>\n",
       "</div>"
      ],
      "text/plain": [
       "             tweet_id                 timestamp  rating_numerator  \\\n",
       "0  892420643555336193 2017-08-01 16:23:56+00:00                13   \n",
       "1  892177421306343426 2017-08-01 00:17:27+00:00                13   \n",
       "2  891815181378084864 2017-07-31 00:18:03+00:00                12   \n",
       "3  891689557279858688 2017-07-30 15:58:51+00:00                13   \n",
       "4  891327558926688256 2017-07-29 16:00:24+00:00                12   \n",
       "\n",
       "   rating_denominator      name stage  retweet_count  favorite_count  \n",
       "0                  10   Phineas  None           7565           35769  \n",
       "1                  10     Tilly  None           5605           30898  \n",
       "2                  10    Archie  None           3715           23238  \n",
       "3                  10     Darla  None           7751           39065  \n",
       "4                  10  Franklin  None           8346           37308  "
      ]
     },
     "execution_count": 57,
     "metadata": {},
     "output_type": "execute_result"
    }
   ],
   "source": [
    "#- Tidiness Issue -\n",
    "#Merging the three data frames\n",
    "\n",
    "twts_archives_tweets_API_merged_df = pd.merge(tweets_archive_df_copy,tweets_df_copy, on = 'tweet_id', how = 'inner')\n",
    "\n",
    "twts_archives_tweets_API_merged_df.head()"
   ]
  },
  {
   "cell_type": "code",
   "execution_count": 58,
   "metadata": {},
   "outputs": [
    {
     "name": "stdout",
     "output_type": "stream",
     "text": [
      "<class 'pandas.core.frame.DataFrame'>\n",
      "Int64Index: 1587 entries, 0 to 1586\n",
      "Data columns (total 19 columns):\n",
      " #   Column              Non-Null Count  Dtype              \n",
      "---  ------              --------------  -----              \n",
      " 0   tweet_id            1587 non-null   int64              \n",
      " 1   timestamp           1587 non-null   datetime64[ns, UTC]\n",
      " 2   rating_numerator    1587 non-null   int64              \n",
      " 3   rating_denominator  1587 non-null   int64              \n",
      " 4   name                1587 non-null   object             \n",
      " 5   stage               1587 non-null   object             \n",
      " 6   retweet_count       1587 non-null   int64              \n",
      " 7   favorite_count      1587 non-null   int64              \n",
      " 8   jpg_url             1587 non-null   object             \n",
      " 9   img_num             1587 non-null   int64              \n",
      " 10  p1                  1587 non-null   object             \n",
      " 11  p1_conf             1587 non-null   float64            \n",
      " 12  p1_dog              1587 non-null   bool               \n",
      " 13  p2                  1587 non-null   object             \n",
      " 14  p2_conf             1587 non-null   float64            \n",
      " 15  p2_dog              1587 non-null   bool               \n",
      " 16  p3                  1587 non-null   object             \n",
      " 17  p3_conf             1587 non-null   float64            \n",
      " 18  p3_dog              1587 non-null   bool               \n",
      "dtypes: bool(3), datetime64[ns, UTC](1), float64(3), int64(6), object(6)\n",
      "memory usage: 178.2+ KB\n"
     ]
    }
   ],
   "source": [
    "wrangled_data_df = pd.merge(twts_archives_tweets_API_merged_df,images_df_copy, on = 'tweet_id', how = 'inner')\n",
    "\n",
    "wrangled_data_df.info()"
   ]
  },
  {
   "cell_type": "code",
   "execution_count": 135,
   "metadata": {},
   "outputs": [
    {
     "data": {
      "text/plain": [
       "74.7321991178324"
      ]
     },
     "execution_count": 135,
     "metadata": {},
     "output_type": "execute_result"
    }
   ],
   "source": [
    "#Saving the wrangled data in a new CSV file\n",
    "\n",
    "wrangled_data_df.to_csv('wrangled_data.csv')\n",
    "\n",
    "wrangled_data_df['p3_dog'].value_counts()[True]*100/wrangled_data_df['p3'].count()"
   ]
  },
  {
   "cell_type": "markdown",
   "metadata": {},
   "source": [
    "# Visualizing the wrangled data"
   ]
  },
  {
   "cell_type": "code",
   "execution_count": null,
   "metadata": {},
   "outputs": [],
   "source": [
    "#Importing the required lib.s\n",
    "import seaborn as sns\n",
    "import matplotlib.pyplot as plt"
   ]
  },
  {
   "cell_type": "markdown",
   "metadata": {},
   "source": [
    "**Drawing the count of each dog stage**"
   ]
  },
  {
   "cell_type": "code",
   "execution_count": 237,
   "metadata": {
    "scrolled": true
   },
   "outputs": [
    {
     "data": {
      "image/png": "[encoded data removed]",
      "text/plain": [
       "<Figure size 720x360 with 1 Axes>"
      ]
     },
     "metadata": {
      "needs_background": "light"
     },
     "output_type": "display_data"
    }
   ],
   "source": [
    "\n",
    "\n",
    "#Stages to be visualized \n",
    "\n",
    "stage_df = wrangled_data_df[wrangled_data_df['stage'] != 'None' ]\n",
    "\n",
    "#drawing horizontal bar chart for the dog's stages \n",
    "ax = stage_df['stage'].value_counts().plot(kind='barh', figsize=(10,5), color='#86bf91', zorder=2, width=0.5);\n",
    "# Draw vertical axis lines      \n",
    "vals = ax.get_xticks()\n",
    "\n",
    "for tick in vals:\n",
    "        ax.axvline(x=tick, linestyle='dashed', alpha=0.4, color='#eeeeee', zorder=1)\n",
    "\n",
    "# Set x-axis label\n",
    "ax.set_xlabel(\"Count of dogs\", labelpad=20, weight='bold', size=12)\n",
    "\n",
    "# Set y-axis label\n",
    "ax.set_ylabel(\"Stages\", labelpad=20, weight='bold', size=12);\n",
    "\n",
    "# create a list to collect the plt.patches data\n",
    "totals = []\n",
    "\n",
    "# find the values and append to list\n",
    "for i in ax.patches:\n",
    "    totals.append(i.get_width())\n",
    "\n",
    "# set individual bar lables using above list\n",
    "total = sum(totals)\n",
    "\n",
    "# set individual bar lables using above list\n",
    "for i in ax.patches:\n",
    "    # get_width pulls left or right; get_y pushes up or down\n",
    "    ax.text(i.get_width()+.3, i.get_y()+.38, \\\n",
    "            str(round((i.get_width()/total)*100, 2))+'%', fontsize=15,color='dimgrey')\n",
    "\n",
    "# invert for largest on top \n",
    "ax.invert_yaxis()\n"
   ]
  },
  {
   "cell_type": "markdown",
   "metadata": {},
   "source": [
    "**Drawing the count each valid prediction to the total number of prediction for each of p1, p2 and p3**"
   ]
  },
  {
   "cell_type": "code",
   "execution_count": 226,
   "metadata": {
    "scrolled": false
   },
   "outputs": [
    {
     "data": {
      "text/plain": [
       "(-0.5, 2.5, 1100, 1300)"
      ]
     },
     "execution_count": 226,
     "metadata": {},
     "output_type": "execute_result"
    },
    {
     "data": {
      "image/png": "[encoded data removed]",
      "text/plain": [
       "<Figure size 432x288 with 1 Axes>"
      ]
     },
     "metadata": {
      "needs_background": "light"
     },
     "output_type": "display_data"
    }
   ],
   "source": [
    "p1_percent = wrangled_data_df['p1_dog'].value_counts()[True]\n",
    "p2_percent = wrangled_data_df['p2_dog'].value_counts()[True]\n",
    "p3_percent = wrangled_data_df['p3_dog'].value_counts()[True]\n",
    "\n",
    "correct_pred = [p1_percent, p2_percent, p3_percent]\n",
    "\n",
    "index = ['First', 'Second', 'Third']\n",
    "\n",
    "pred_plot = pd.DataFrame({'Correct': correct_pred}, index=index)\n",
    "\n",
    "ax = pred_plot.plot.bar(legend=None)\n",
    "\n",
    "#Set x-axis label\n",
    "ax.set_xlabel(\"Predictions\", labelpad=20, weight='bold', size=12)\n",
    "\n",
    "# Set y-axis label\n",
    "ax.set_ylabel(\"No. of correct predicted images\", labelpad=20, weight='bold', size=12);\n",
    "    \n",
    "ax.axis(ymin = 1100, ymax = 1300)"
   ]
  },
  {
   "cell_type": "markdown",
   "metadata": {},
   "source": [
    "**Drawing the relationtship between number of retweets and favorites**"
   ]
  },
  {
   "cell_type": "code",
   "execution_count": 227,
   "metadata": {
    "scrolled": false
   },
   "outputs": [
    {
     "data": {
      "image/png": "[encoded data removed]",
      "text/plain": [
       "<Figure size 432x288 with 1 Axes>"
      ]
     },
     "metadata": {
      "needs_background": "light"
     },
     "output_type": "display_data"
    }
   ],
   "source": [
    "retweets_count  = wrangled_data_df['retweet_count']\n",
    "favorites_count = wrangled_data_df['favorite_count']\n",
    "\n",
    "\n",
    "\n",
    "tweet_impressions = pd.concat([retweets_count,favorites_count], axis = 1)\n",
    "\n",
    "ax = tweet_impressions.plot.scatter(x = 'retweet_count', y = 'favorite_count', color = 'green')\n",
    "\n",
    "#Set x-axis label\n",
    "ax.set_xlabel(\"Retweets\", labelpad=20, weight='bold', size=12)\n",
    "\n",
    "# Set y-axis label\n",
    "ax.set_ylabel(\"Favorites\", labelpad=20, weight='bold', size=12);"
   ]
  },
  {
   "cell_type": "code",
   "execution_count": null,
   "metadata": {},
   "outputs": [],
   "source": []
  }
 ],
 "metadata": {
  "kernelspec": {
   "display_name": "Python 3",
   "language": "python",
   "name": "python3"
  },
  "language_info": {
   "codemirror_mode": {
    "name": "ipython",
    "version": 3
   },
   "file_extension": ".py",
   "mimetype": "text/x-python",
   "name": "python",
   "nbconvert_exporter": "python",
   "pygments_lexer": "ipython3",
   "version": "3.7.6"
  }
 },
 "nbformat": 4,
 "nbformat_minor": 4
}
